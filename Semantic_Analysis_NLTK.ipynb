{
 "cells": [
  {
   "cell_type": "markdown",
   "id": "6ad2a85c",
   "metadata": {},
   "source": [
    "## Import Dependencies"
   ]
  },
  {
   "cell_type": "code",
   "execution_count": 72,
   "id": "9a4c005c",
   "metadata": {},
   "outputs": [],
   "source": [
    "# load dependencies\n",
    "import nltk\n",
    "from nltk.tokenize import word_tokenize\n",
    "from nltk.corpus import wordnet"
   ]
  },
  {
   "cell_type": "code",
   "execution_count": 73,
   "id": "828acf3e",
   "metadata": {},
   "outputs": [],
   "source": [
    "# sample text\n",
    "text = \"A Comprehensive Guide to the Top NLP Algorithms for 2023\""
   ]
  },
  {
   "cell_type": "markdown",
   "id": "4e5d188d",
   "metadata": {},
   "source": [
    "## Tokenize Text"
   ]
  },
  {
   "cell_type": "code",
   "execution_count": 74,
   "id": "b2e57e59",
   "metadata": {},
   "outputs": [
    {
     "name": "stdout",
     "output_type": "stream",
     "text": [
      "['A', 'Comprehensive', 'Guide', 'to', 'the', 'Top', 'NLP', 'Algorithms', 'for', '2023']\n"
     ]
    }
   ],
   "source": [
    "# tokenize the text\n",
    "tokens = word_tokenize(text)\n",
    "print(tokens)"
   ]
  },
  {
   "cell_type": "markdown",
   "id": "fb51cd56",
   "metadata": {},
   "source": [
    "## Parts of Speech Tagging "
   ]
  },
  {
   "cell_type": "code",
   "execution_count": 75,
   "id": "f4c4a842",
   "metadata": {},
   "outputs": [
    {
     "name": "stdout",
     "output_type": "stream",
     "text": [
      "[('A', 'DT'), ('Comprehensive', 'NNP'), ('Guide', 'NNP'), ('to', 'TO'), ('the', 'DT'), ('Top', 'NNP'), ('NLP', 'NNP'), ('Algorithms', 'NNP'), ('for', 'IN'), ('2023', 'CD')]\n"
     ]
    }
   ],
   "source": [
    "# perform part-of-speech tagging\n",
    "pos_tags = nltk.pos_tag(tokens)\n",
    "\n",
    "print(pos_tags)"
   ]
  },
  {
   "cell_type": "markdown",
   "id": "3c5fd0c9",
   "metadata": {},
   "source": [
    "## Identify Synonyms of Words"
   ]
  },
  {
   "cell_type": "code",
   "execution_count": 76,
   "id": "7a9e1469",
   "metadata": {},
   "outputs": [
    {
     "name": "stdout",
     "output_type": "stream",
     "text": [
      "A : ['angstrom', 'angstrom_unit', 'A']\n",
      "Comprehensive : ['comprehensive_examination', 'comprehensive', 'comp']\n",
      "Guide : ['usher', 'guide']\n",
      "Top : ['top']\n",
      "NLP : ['natural_language_processing', 'NLP', 'human_language_technology']\n",
      "Algorithms : ['algorithm', 'algorithmic_rule', 'algorithmic_program']\n"
     ]
    }
   ],
   "source": [
    "# identify synonyms and antonyms for the words in the text\n",
    "for word, pos in pos_tags:\n",
    "    synsets = wordnet.synsets(word)\n",
    "    if synsets:\n",
    "        synset = synsets[0]\n",
    "        synonyms = synset.lemma_names()\n",
    "        print(word, \":\", synonyms)"
   ]
  },
  {
   "cell_type": "code",
   "execution_count": null,
   "id": "f254cfb5",
   "metadata": {},
   "outputs": [],
   "source": []
  }
 ],
 "metadata": {
  "kernelspec": {
   "display_name": "Python 3 (ipykernel)",
   "language": "python",
   "name": "python3"
  },
  "language_info": {
   "codemirror_mode": {
    "name": "ipython",
    "version": 3
   },
   "file_extension": ".py",
   "mimetype": "text/x-python",
   "name": "python",
   "nbconvert_exporter": "python",
   "pygments_lexer": "ipython3",
   "version": "3.11.2"
  }
 },
 "nbformat": 4,
 "nbformat_minor": 5
}
