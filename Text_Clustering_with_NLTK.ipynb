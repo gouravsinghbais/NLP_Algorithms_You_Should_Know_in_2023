{
 "cells": [
  {
   "cell_type": "markdown",
   "id": "748aba86",
   "metadata": {},
   "source": [
    "## Import Dependencies"
   ]
  },
  {
   "cell_type": "code",
   "execution_count": 28,
   "id": "3dcf033e",
   "metadata": {},
   "outputs": [],
   "source": [
    "# import dependencies\n",
    "from sklearn.feature_extraction.text import TfidfVectorizer\n",
    "from sklearn.cluster import KMeans"
   ]
  },
  {
   "cell_type": "code",
   "execution_count": 29,
   "id": "8393fc81",
   "metadata": {},
   "outputs": [],
   "source": [
    "# Sample corpus of documents\n",
    "corpus = [\n",
    "    \"The sky is blue and beautiful\",\n",
    "    \"Love this blue and beautiful sky\",\n",
    "    \"The fox leaps in the direction of the very sluggish dog\",\n",
    "    \"A black fox is quite quick and the dog is very lazy\",\n",
    "    \"The dark-colored dog and fox get along well\",\n",
    "    \"The red apple is succulent and ripe\",\n",
    "    \"Delicious red apples are the best\",\n",
    "    \"Stay healthy by eating an apple a day\",\n",
    "]"
   ]
  },
  {
   "cell_type": "markdown",
   "id": "4f966016",
   "metadata": {},
   "source": [
    "## Preprocess Text"
   ]
  },
  {
   "cell_type": "code",
   "execution_count": 30,
   "id": "d480963a",
   "metadata": {},
   "outputs": [],
   "source": [
    "# Vectorize the corpus\n",
    "vectorizer = TfidfVectorizer()\n",
    "X = vectorizer.fit_transform(corpus)"
   ]
  },
  {
   "cell_type": "markdown",
   "id": "485a9ed9",
   "metadata": {},
   "source": [
    "## Apply K-Means Clustering"
   ]
  },
  {
   "cell_type": "code",
   "execution_count": 31,
   "id": "71fa26ab",
   "metadata": {},
   "outputs": [],
   "source": [
    "# Cluster the documents using k-means\n",
    "kmeans = KMeans(n_clusters=3, random_state=0).fit(X)"
   ]
  },
  {
   "cell_type": "markdown",
   "id": "707579cb",
   "metadata": {},
   "source": [
    "## Print Different Clusters"
   ]
  },
  {
   "cell_type": "code",
   "execution_count": 32,
   "id": "f010ae3d",
   "metadata": {},
   "outputs": [
    {
     "name": "stdout",
     "output_type": "stream",
     "text": [
      "Cluster 1\n",
      "- The sky is blue and beautiful\n",
      "- Love this blue and beautiful sky\n",
      "\n",
      "Cluster 2\n",
      "- The red apple is succulent and ripe\n",
      "- Delicious red apples are the best\n",
      "- Stay healthy by eating an apple a day\n",
      "\n",
      "Cluster 3\n",
      "- The fox leaps in the direction of the very sluggish dog\n",
      "- A black fox is quite quick and the dog is very lazy\n",
      "- The dark-colored dog and fox get along well\n",
      "\n"
     ]
    }
   ],
   "source": [
    "# Print the clusters and their respective documents\n",
    "for i in range(kmeans.n_clusters):\n",
    "    print(\"Cluster\", i+1)\n",
    "    for j in range(len(corpus)): \n",
    "        if kmeans.labels_[j] == i:\n",
    "            print(\"-\", corpus[j])\n",
    "    print()"
   ]
  },
  {
   "cell_type": "code",
   "execution_count": null,
   "id": "613de16c",
   "metadata": {},
   "outputs": [],
   "source": []
  }
 ],
 "metadata": {
  "kernelspec": {
   "display_name": "Python 3 (ipykernel)",
   "language": "python",
   "name": "python3"
  },
  "language_info": {
   "codemirror_mode": {
    "name": "ipython",
    "version": 3
   },
   "file_extension": ".py",
   "mimetype": "text/x-python",
   "name": "python",
   "nbconvert_exporter": "python",
   "pygments_lexer": "ipython3",
   "version": "3.11.2"
  }
 },
 "nbformat": 4,
 "nbformat_minor": 5
}
