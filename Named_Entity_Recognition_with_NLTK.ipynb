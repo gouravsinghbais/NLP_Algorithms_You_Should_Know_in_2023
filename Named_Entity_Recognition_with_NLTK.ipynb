{
 "cells": [
  {
   "cell_type": "markdown",
   "id": "23d7bed5",
   "metadata": {},
   "source": [
    "## Import dependencies"
   ]
  },
  {
   "cell_type": "code",
   "execution_count": 7,
   "id": "ef2c8c56",
   "metadata": {},
   "outputs": [],
   "source": [
    "# import dependencies\n",
    "import nltk\n",
    "from nltk import word_tokenize\n",
    "from nltk import pos_tag\n",
    "from nltk import ne_chunk"
   ]
  },
  {
   "cell_type": "code",
   "execution_count": 8,
   "id": "80799d45",
   "metadata": {},
   "outputs": [],
   "source": [
    "# example text string\n",
    "ner_sentence = '''Tom Brady won his seventh Super Bowl title in 2021 with the Tampa Bay Buccaneers, \n",
    "                becoming the oldest quarterback to win a Super Bowl at the age of 43.'''"
   ]
  },
  {
   "cell_type": "markdown",
   "id": "cfd5950b",
   "metadata": {},
   "source": [
    "## Tokenization"
   ]
  },
  {
   "cell_type": "code",
   "execution_count": 9,
   "id": "62340a1c",
   "metadata": {},
   "outputs": [
    {
     "name": "stdout",
     "output_type": "stream",
     "text": [
      "['Tom', 'Brady', 'won', 'his', 'seventh', 'Super', 'Bowl', 'title', 'in', '2021', 'with', 'the', 'Tampa', 'Bay', 'Buccaneers', ',', 'becoming', 'the', 'oldest', 'quarterback', 'to', 'win', 'a', 'Super', 'Bowl', 'at', 'the', 'age', 'of', '43', '.']\n"
     ]
    }
   ],
   "source": [
    "# tokenization \n",
    "tokens = word_tokenize(ner_sentence)\n",
    "print(tokens)"
   ]
  },
  {
   "cell_type": "markdown",
   "id": "cdc9d54e",
   "metadata": {},
   "source": [
    "## Parts of Speech Tagging"
   ]
  },
  {
   "cell_type": "code",
   "execution_count": 10,
   "id": "851ba9e2",
   "metadata": {},
   "outputs": [
    {
     "name": "stdout",
     "output_type": "stream",
     "text": [
      "[('Tom', 'NNP'), ('Brady', 'NNP'), ('won', 'VBD'), ('his', 'PRP$'), ('seventh', 'JJ'), ('Super', 'NNP'), ('Bowl', 'NNP'), ('title', 'NN'), ('in', 'IN'), ('2021', 'CD'), ('with', 'IN'), ('the', 'DT'), ('Tampa', 'NNP'), ('Bay', 'NNP'), ('Buccaneers', 'NNP'), (',', ','), ('becoming', 'VBG'), ('the', 'DT'), ('oldest', 'JJS'), ('quarterback', 'NN'), ('to', 'TO'), ('win', 'VB'), ('a', 'DT'), ('Super', 'NNP'), ('Bowl', 'NNP'), ('at', 'IN'), ('the', 'DT'), ('age', 'NN'), ('of', 'IN'), ('43', 'CD'), ('.', '.')]\n"
     ]
    }
   ],
   "source": [
    "# pos tagging\n",
    "pos_tags = pos_tag(tokens)\n",
    "print(pos_tags)"
   ]
  },
  {
   "cell_type": "markdown",
   "id": "fbbfd819",
   "metadata": {},
   "source": [
    "## Named Entity Recognition"
   ]
  },
  {
   "cell_type": "code",
   "execution_count": 11,
   "id": "8edad255",
   "metadata": {},
   "outputs": [
    {
     "name": "stdout",
     "output_type": "stream",
     "text": [
      "(S\n",
      "  (PERSON Tom/NNP)\n",
      "  (PERSON Brady/NNP)\n",
      "  won/VBD\n",
      "  his/PRP$\n",
      "  seventh/JJ\n",
      "  (PERSON Super/NNP Bowl/NNP)\n",
      "  title/NN\n",
      "  in/IN\n",
      "  2021/CD\n",
      "  with/IN\n",
      "  the/DT\n",
      "  (ORGANIZATION Tampa/NNP Bay/NNP Buccaneers/NNP)\n",
      "  ,/,\n",
      "  becoming/VBG\n",
      "  the/DT\n",
      "  oldest/JJS\n",
      "  quarterback/NN\n",
      "  to/TO\n",
      "  win/VB\n",
      "  a/DT\n",
      "  (ORGANIZATION Super/NNP Bowl/NNP)\n",
      "  at/IN\n",
      "  the/DT\n",
      "  age/NN\n",
      "  of/IN\n",
      "  43/CD\n",
      "  ./.)\n"
     ]
    }
   ],
   "source": [
    "# NER \n",
    "named_entities = ne_chunk(pos_tags)\n",
    "print(named_entities)"
   ]
  },
  {
   "cell_type": "markdown",
   "id": "c5dc737f",
   "metadata": {},
   "source": [
    "## Create NER Graph"
   ]
  },
  {
   "cell_type": "code",
   "execution_count": null,
   "id": "f37ffa03",
   "metadata": {},
   "outputs": [],
   "source": [
    "# NER visualization\n",
    "def process_content(pos_tags):\n",
    "    try:\n",
    "        namedEnt = nltk.ne_chunk(pos_tags, binary=False)\n",
    "        namedEnt.draw()\n",
    "    except Exception as e:\n",
    "        print(str(e))\n",
    "\n",
    "\n",
    "# draw NER gprah\n",
    "process_content(pos_tags)"
   ]
  },
  {
   "cell_type": "code",
   "execution_count": null,
   "id": "34c0e0d2",
   "metadata": {},
   "outputs": [],
   "source": []
  }
 ],
 "metadata": {
  "kernelspec": {
   "display_name": "Python 3 (ipykernel)",
   "language": "python",
   "name": "python3"
  },
  "language_info": {
   "codemirror_mode": {
    "name": "ipython",
    "version": 3
   },
   "file_extension": ".py",
   "mimetype": "text/x-python",
   "name": "python",
   "nbconvert_exporter": "python",
   "pygments_lexer": "ipython3",
   "version": "3.11.2"
  }
 },
 "nbformat": 4,
 "nbformat_minor": 5
}
