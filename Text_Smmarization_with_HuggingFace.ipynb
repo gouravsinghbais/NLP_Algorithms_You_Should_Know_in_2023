{
 "cells": [
  {
   "cell_type": "markdown",
   "id": "2fe72b71",
   "metadata": {},
   "source": [
    "## Import Dependencies"
   ]
  },
  {
   "cell_type": "code",
   "execution_count": 13,
   "id": "d26a88e4",
   "metadata": {},
   "outputs": [],
   "source": [
    "from transformers import pipeline"
   ]
  },
  {
   "cell_type": "markdown",
   "id": "1687a114",
   "metadata": {},
   "source": [
    "## Intialize Summarizer"
   ]
  },
  {
   "cell_type": "code",
   "execution_count": 14,
   "id": "659cc3b5",
   "metadata": {
    "scrolled": true
   },
   "outputs": [],
   "source": [
    "summarizer = pipeline(\"summarization\", model=\"facebook/bart-large-cnn\")"
   ]
  },
  {
   "cell_type": "markdown",
   "id": "84a93492",
   "metadata": {},
   "source": [
    "## Test Summarizer"
   ]
  },
  {
   "cell_type": "code",
   "execution_count": 15,
   "id": "07963e1f",
   "metadata": {},
   "outputs": [],
   "source": [
    "ARTICLE = \"\"\"A rapidly expanding discipline, artificial intelligence (AI) has the potential to \n",
    "            revolutionise a number of sectors, including healthcare, banking, and transportation.\n",
    "            AI systems are capable of processing vast amounts of data and making predictions and \n",
    "            decisions based on that data, often with greater accuracy and speed than humans.\n",
    "            However, there are also concerns about the ethical implications of AI, such as the \n",
    "            potential for bias or misuse of the technology. As AI continues to develop and become \n",
    "            more integrated into our daily lives, it's important to carefully consider both the \n",
    "            benefits and risks.\"\"\""
   ]
  },
  {
   "cell_type": "code",
   "execution_count": 16,
   "id": "9436984e",
   "metadata": {},
   "outputs": [
    {
     "name": "stdout",
     "output_type": "stream",
     "text": [
      "[{'summary_text': \"Artificial intelligence (AI) has the potential to revolutionise a number of sectors. There are also concerns about the ethical implications of AI. As AI continues to develop, it's important to carefully consider both the benefits and risks.\"}]\n"
     ]
    }
   ],
   "source": [
    "print(summarizer(ARTICLE, max_length=130, min_length=30, do_sample=False))"
   ]
  },
  {
   "cell_type": "code",
   "execution_count": null,
   "id": "8ee43072",
   "metadata": {},
   "outputs": [],
   "source": []
  }
 ],
 "metadata": {
  "kernelspec": {
   "display_name": "Python 3 (ipykernel)",
   "language": "python",
   "name": "python3"
  },
  "language_info": {
   "codemirror_mode": {
    "name": "ipython",
    "version": 3
   },
   "file_extension": ".py",
   "mimetype": "text/x-python",
   "name": "python",
   "nbconvert_exporter": "python",
   "pygments_lexer": "ipython3",
   "version": "3.11.2"
  }
 },
 "nbformat": 4,
 "nbformat_minor": 5
}
