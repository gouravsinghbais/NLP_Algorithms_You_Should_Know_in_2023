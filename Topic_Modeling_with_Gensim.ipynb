{
 "cells": [
  {
   "cell_type": "markdown",
   "id": "a5927dd1",
   "metadata": {},
   "source": [
    "## Load Dependencies"
   ]
  },
  {
   "cell_type": "code",
   "execution_count": 19,
   "id": "adedf536",
   "metadata": {},
   "outputs": [],
   "source": [
    "# load dependencies\n",
    "import pandas as pd\n",
    "import numpy as np\n",
    "\n",
    "# NLTK dependencies\n",
    "import nltk\n",
    "from nltk.corpus import stopwords\n",
    "from nltk.stem.wordnet import WordNetLemmatizer\n",
    "\n",
    "# Gensim dependencies\n",
    "from gensim import corpora\n",
    "from gensim.models.ldamodel import LdaModel"
   ]
  },
  {
   "cell_type": "code",
   "execution_count": 20,
   "id": "e1d67ff6",
   "metadata": {},
   "outputs": [
    {
     "data": {
      "text/html": [
       "<div>\n",
       "<style scoped>\n",
       "    .dataframe tbody tr th:only-of-type {\n",
       "        vertical-align: middle;\n",
       "    }\n",
       "\n",
       "    .dataframe tbody tr th {\n",
       "        vertical-align: top;\n",
       "    }\n",
       "\n",
       "    .dataframe thead th {\n",
       "        text-align: right;\n",
       "    }\n",
       "</style>\n",
       "<table border=\"1\" class=\"dataframe\">\n",
       "  <thead>\n",
       "    <tr style=\"text-align: right;\">\n",
       "      <th></th>\n",
       "      <th>ID</th>\n",
       "      <th>TITLE</th>\n",
       "      <th>ABSTRACT</th>\n",
       "      <th>Computer Science</th>\n",
       "      <th>Physics</th>\n",
       "      <th>Mathematics</th>\n",
       "      <th>Statistics</th>\n",
       "      <th>Quantitative Biology</th>\n",
       "      <th>Quantitative Finance</th>\n",
       "    </tr>\n",
       "  </thead>\n",
       "  <tbody>\n",
       "    <tr>\n",
       "      <th>0</th>\n",
       "      <td>1</td>\n",
       "      <td>Reconstructing Subject-Specific Effect Maps</td>\n",
       "      <td>Predictive models allow subject-specific inf...</td>\n",
       "      <td>1</td>\n",
       "      <td>0</td>\n",
       "      <td>0</td>\n",
       "      <td>0</td>\n",
       "      <td>0</td>\n",
       "      <td>0</td>\n",
       "    </tr>\n",
       "    <tr>\n",
       "      <th>1</th>\n",
       "      <td>2</td>\n",
       "      <td>Rotation Invariance Neural Network</td>\n",
       "      <td>Rotation invariance and translation invarian...</td>\n",
       "      <td>1</td>\n",
       "      <td>0</td>\n",
       "      <td>0</td>\n",
       "      <td>0</td>\n",
       "      <td>0</td>\n",
       "      <td>0</td>\n",
       "    </tr>\n",
       "    <tr>\n",
       "      <th>2</th>\n",
       "      <td>3</td>\n",
       "      <td>Spherical polyharmonics and Poisson kernels fo...</td>\n",
       "      <td>We introduce and develop the notion of spher...</td>\n",
       "      <td>0</td>\n",
       "      <td>0</td>\n",
       "      <td>1</td>\n",
       "      <td>0</td>\n",
       "      <td>0</td>\n",
       "      <td>0</td>\n",
       "    </tr>\n",
       "    <tr>\n",
       "      <th>3</th>\n",
       "      <td>4</td>\n",
       "      <td>A finite element approximation for the stochas...</td>\n",
       "      <td>The stochastic Landau--Lifshitz--Gilbert (LL...</td>\n",
       "      <td>0</td>\n",
       "      <td>0</td>\n",
       "      <td>1</td>\n",
       "      <td>0</td>\n",
       "      <td>0</td>\n",
       "      <td>0</td>\n",
       "    </tr>\n",
       "    <tr>\n",
       "      <th>4</th>\n",
       "      <td>5</td>\n",
       "      <td>Comparative study of Discrete Wavelet Transfor...</td>\n",
       "      <td>Fourier-transform infra-red (FTIR) spectra o...</td>\n",
       "      <td>1</td>\n",
       "      <td>0</td>\n",
       "      <td>0</td>\n",
       "      <td>1</td>\n",
       "      <td>0</td>\n",
       "      <td>0</td>\n",
       "    </tr>\n",
       "  </tbody>\n",
       "</table>\n",
       "</div>"
      ],
      "text/plain": [
       "   ID                                              TITLE  \\\n",
       "0   1        Reconstructing Subject-Specific Effect Maps   \n",
       "1   2                 Rotation Invariance Neural Network   \n",
       "2   3  Spherical polyharmonics and Poisson kernels fo...   \n",
       "3   4  A finite element approximation for the stochas...   \n",
       "4   5  Comparative study of Discrete Wavelet Transfor...   \n",
       "\n",
       "                                            ABSTRACT  Computer Science  \\\n",
       "0    Predictive models allow subject-specific inf...                 1   \n",
       "1    Rotation invariance and translation invarian...                 1   \n",
       "2    We introduce and develop the notion of spher...                 0   \n",
       "3    The stochastic Landau--Lifshitz--Gilbert (LL...                 0   \n",
       "4    Fourier-transform infra-red (FTIR) spectra o...                 1   \n",
       "\n",
       "   Physics  Mathematics  Statistics  Quantitative Biology  \\\n",
       "0        0            0           0                     0   \n",
       "1        0            0           0                     0   \n",
       "2        0            1           0                     0   \n",
       "3        0            1           0                     0   \n",
       "4        0            0           1                     0   \n",
       "\n",
       "   Quantitative Finance  \n",
       "0                     0  \n",
       "1                     0  \n",
       "2                     0  \n",
       "3                     0  \n",
       "4                     0  "
      ]
     },
     "execution_count": 20,
     "metadata": {},
     "output_type": "execute_result"
    }
   ],
   "source": [
    "# load the dataset\n",
    "df = pd.read_csv(\"Research_Articles.csv\")\n",
    "\n",
    "# select first 1000 rows of data \n",
    "df = df[:1000]\n",
    "\n",
    "# check first few rows of data \n",
    "df.head()"
   ]
  },
  {
   "cell_type": "markdown",
   "id": "90483ef4",
   "metadata": {},
   "source": [
    "## Preprocess Text"
   ]
  },
  {
   "cell_type": "code",
   "execution_count": 21,
   "id": "ea69345c",
   "metadata": {},
   "outputs": [],
   "source": [
    "# tokenize and preprocess the text\n",
    "stop_words = stopwords.words('english')\n",
    "lemma = WordNetLemmatizer()\n",
    "\n",
    "def preprocess_text(text):\n",
    "    tokens = nltk.word_tokenize(text.lower())\n",
    "    tokens = [token for token in tokens if token.isalpha() and token not in stop_words]\n",
    "    tokens = [lemma.lemmatize(t) for t in tokens]\n",
    "    return tokens"
   ]
  },
  {
   "cell_type": "code",
   "execution_count": 22,
   "id": "dd9c0727",
   "metadata": {},
   "outputs": [],
   "source": [
    "# preprocess text of ABSTRACT column\n",
    "documents = df[\"ABSTRACT\"].apply(preprocess_text).tolist()"
   ]
  },
  {
   "cell_type": "markdown",
   "id": "e2988adc",
   "metadata": {},
   "source": [
    "## Create Dictionary and Corpus for LDA"
   ]
  },
  {
   "cell_type": "code",
   "execution_count": 23,
   "id": "bb6c90b6",
   "metadata": {},
   "outputs": [],
   "source": [
    "# create a dictionary and corpus for the LDA model\n",
    "dictionary = corpora.Dictionary(documents)\n",
    "corpus = [dictionary.doc2bow(doc) for doc in documents]"
   ]
  },
  {
   "cell_type": "markdown",
   "id": "a9a1174f",
   "metadata": {},
   "source": [
    "## Train LDA Model "
   ]
  },
  {
   "cell_type": "code",
   "execution_count": 24,
   "id": "fcda3d51",
   "metadata": {},
   "outputs": [],
   "source": [
    "# train the LDA model\n",
    "num_topics = 10\n",
    "lda_model = LdaModel(corpus=corpus, id2word=dictionary, num_topics=num_topics, passes=10)"
   ]
  },
  {
   "cell_type": "markdown",
   "id": "c6d0a359",
   "metadata": {},
   "source": [
    "## Check Top 10 Topics"
   ]
  },
  {
   "cell_type": "code",
   "execution_count": 25,
   "id": "161c5b39",
   "metadata": {
    "scrolled": true
   },
   "outputs": [
    {
     "name": "stdout",
     "output_type": "stream",
     "text": [
      "Topic 0: data, model, state, system, analysis, problem, result, k, show, two\n",
      "Topic 1: star, system, planet, data, model, present, result, problem, function, paper\n",
      "Topic 2: network, model, system, data, algorithm, problem, method, time, number, neural\n",
      "Topic 3: p, model, c, show, case, also, system, state, using, result\n",
      "Topic 4: algorithm, problem, model, network, result, function, method, paper, show, study\n",
      "Topic 5: method, model, field, magnetic, state, result, quantum, using, energy, phase\n",
      "Topic 6: data, result, used, control, distribution, function, problem, model, algorithm, also\n",
      "Topic 7: model, method, network, learning, image, using, data, approach, neural, show\n",
      "Topic 8: model, result, show, performance, data, study, simulation, based, distribution, system\n",
      "Topic 9: system, graph, result, study, n, show, set, boundary, using, property\n"
     ]
    }
   ],
   "source": [
    "# print the topics and their top words\n",
    "for topic_id in range(num_topics):\n",
    "    top_words = [word for word, prob in lda_model.show_topic(topic_id, topn=10)]\n",
    "    print(\"Topic {}: {}\".format(topic_id, \", \".join(top_words)))"
   ]
  },
  {
   "cell_type": "markdown",
   "id": "cacb0b4c",
   "metadata": {},
   "source": [
    "## Check 10 Topics with Probability"
   ]
  },
  {
   "cell_type": "code",
   "execution_count": 26,
   "id": "b3c17027",
   "metadata": {},
   "outputs": [
    {
     "data": {
      "text/plain": [
       "[(0,\n",
       "  '0.008*\"data\" + 0.006*\"model\" + 0.006*\"state\" + 0.005*\"system\" + 0.005*\"analysis\" + 0.005*\"problem\" + 0.004*\"result\" + 0.004*\"k\" + 0.004*\"show\" + 0.004*\"two\"'),\n",
       " (1,\n",
       "  '0.008*\"star\" + 0.007*\"system\" + 0.006*\"planet\" + 0.006*\"data\" + 0.006*\"model\" + 0.004*\"present\" + 0.004*\"result\" + 0.004*\"problem\" + 0.004*\"function\" + 0.004*\"paper\"'),\n",
       " (2,\n",
       "  '0.017*\"network\" + 0.013*\"model\" + 0.009*\"system\" + 0.009*\"data\" + 0.008*\"algorithm\" + 0.007*\"problem\" + 0.006*\"method\" + 0.006*\"time\" + 0.005*\"number\" + 0.005*\"neural\"'),\n",
       " (3,\n",
       "  '0.006*\"p\" + 0.006*\"model\" + 0.005*\"c\" + 0.005*\"show\" + 0.005*\"case\" + 0.005*\"also\" + 0.005*\"system\" + 0.004*\"state\" + 0.004*\"using\" + 0.004*\"result\"'),\n",
       " (4,\n",
       "  '0.009*\"algorithm\" + 0.007*\"problem\" + 0.007*\"model\" + 0.006*\"network\" + 0.006*\"result\" + 0.005*\"function\" + 0.005*\"method\" + 0.005*\"paper\" + 0.005*\"show\" + 0.005*\"study\"'),\n",
       " (5,\n",
       "  '0.011*\"method\" + 0.008*\"model\" + 0.006*\"field\" + 0.006*\"magnetic\" + 0.005*\"state\" + 0.005*\"result\" + 0.004*\"quantum\" + 0.004*\"using\" + 0.004*\"energy\" + 0.004*\"phase\"'),\n",
       " (6,\n",
       "  '0.008*\"data\" + 0.007*\"result\" + 0.005*\"used\" + 0.005*\"control\" + 0.005*\"distribution\" + 0.005*\"function\" + 0.004*\"problem\" + 0.004*\"model\" + 0.004*\"algorithm\" + 0.004*\"also\"'),\n",
       " (7,\n",
       "  '0.013*\"model\" + 0.012*\"method\" + 0.012*\"network\" + 0.010*\"learning\" + 0.007*\"image\" + 0.007*\"using\" + 0.006*\"data\" + 0.006*\"approach\" + 0.006*\"neural\" + 0.005*\"show\"'),\n",
       " (8,\n",
       "  '0.010*\"model\" + 0.006*\"result\" + 0.006*\"show\" + 0.005*\"performance\" + 0.005*\"data\" + 0.004*\"study\" + 0.004*\"simulation\" + 0.004*\"based\" + 0.004*\"distribution\" + 0.004*\"system\"'),\n",
       " (9,\n",
       "  '0.007*\"system\" + 0.006*\"graph\" + 0.006*\"result\" + 0.005*\"study\" + 0.005*\"n\" + 0.005*\"show\" + 0.004*\"set\" + 0.004*\"boundary\" + 0.004*\"using\" + 0.004*\"property\"')]"
      ]
     },
     "execution_count": 26,
     "metadata": {},
     "output_type": "execute_result"
    }
   ],
   "source": [
    "# check 10 topics with probability \n",
    "lda_model.print_topics(num_topics=10, num_words=10)"
   ]
  },
  {
   "cell_type": "code",
   "execution_count": null,
   "id": "00d236e2",
   "metadata": {},
   "outputs": [],
   "source": []
  }
 ],
 "metadata": {
  "kernelspec": {
   "display_name": "Python 3 (ipykernel)",
   "language": "python",
   "name": "python3"
  },
  "language_info": {
   "codemirror_mode": {
    "name": "ipython",
    "version": 3
   },
   "file_extension": ".py",
   "mimetype": "text/x-python",
   "name": "python",
   "nbconvert_exporter": "python",
   "pygments_lexer": "ipython3",
   "version": "3.11.2"
  }
 },
 "nbformat": 4,
 "nbformat_minor": 5
}
